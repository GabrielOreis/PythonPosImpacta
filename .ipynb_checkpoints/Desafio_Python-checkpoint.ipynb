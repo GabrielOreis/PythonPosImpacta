{
 "cells": [
  {
   "cell_type": "markdown",
   "id": "b676023a",
   "metadata": {},
   "source": [
    "# Primeiro desafio"
   ]
  },
  {
   "cell_type": "markdown",
   "id": "742a2fdf",
   "metadata": {},
   "source": [
    "Pegue o seguinte texto:\n",
    "\n",
    "\"Um forte indicador de que já há avanços de Democratização de Dados nas organizações é observar quantas pessoas tem acesso a Dados.\"\n",
    "\n",
    "conte a quantidade de letras no texto e também a quantidade de letras repetidas.\n",
    "\n"
   ]
  },
  {
   "cell_type": "code",
   "execution_count": 116,
   "id": "186bfd08",
   "metadata": {},
   "outputs": [],
   "source": [
    "texto = \"Um forte indicador de que já há avanços de Democratização de Dados nas organizações é observar quantas pessoas tem acesso a Dados.\""
   ]
  },
  {
   "cell_type": "code",
   "execution_count": 117,
   "id": "219e6ee8",
   "metadata": {},
   "outputs": [],
   "source": [
    "#Seleciona as letras ditintas para serem utilizadas na contagem \n",
    "unicos = []\n",
    "for letra in texto:\n",
    "        if letra not in unicos:\n",
    "            unicos.append(letra.upper())"
   ]
  },
  {
   "cell_type": "code",
   "execution_count": 118,
   "id": "6953acd4",
   "metadata": {},
   "outputs": [],
   "source": [
    "#Conta a quantidade de caracteres \n",
    "conte = 0 \n",
    "for letra in texto:\n",
    "    conte = conte + 1 "
   ]
  },
  {
   "cell_type": "code",
   "execution_count": 119,
   "id": "6dd38e95",
   "metadata": {},
   "outputs": [
    {
     "name": "stdout",
     "output_type": "stream",
     "text": [
      "O texto contem: 130 caracteres\n"
     ]
    }
   ],
   "source": [
    "print('O texto contem: %s caracteres'%(conte))"
   ]
  },
  {
   "cell_type": "code",
   "execution_count": 120,
   "id": "56ad30e1",
   "metadata": {},
   "outputs": [],
   "source": [
    "#faz a contagem de caracteres distintos e armazena a informação em um dicionário \n",
    "#Foi utilizado a função 'upper' para não haver diferenças entre letras minúsculas e maiúsculas \n",
    "dic = {}\n",
    "cont = 0 \n",
    "for repedida in unicos:\n",
    "    for letra in texto:\n",
    "        if repedida.upper() == letra.upper():\n",
    "            cont = cont + 1 \n",
    "    dic[repedida] = cont\n",
    "    cont = 0 "
   ]
  },
  {
   "cell_type": "code",
   "execution_count": 122,
   "id": "adcb95e5",
   "metadata": {},
   "outputs": [
    {
     "name": "stdout",
     "output_type": "stream",
     "text": [
      "Quantidade de caracteres repetidos\n",
      "Caractere :  U -> 3\n",
      "Caractere :  M -> 3\n",
      "Caractere :    -> 21\n",
      "Caractere :  F -> 1\n",
      "Caractere :  O -> 11\n",
      "Caractere :  R -> 6\n",
      "Caractere :  T -> 4\n",
      "Caractere :  E -> 11\n",
      "Caractere :  I -> 4\n",
      "Caractere :  N -> 5\n",
      "Caractere :  D -> 10\n",
      "Caractere :  C -> 3\n",
      "Caractere :  A -> 16\n",
      "Caractere :  Q -> 2\n",
      "Caractere :  J -> 1\n",
      "Caractere :  Á -> 2\n",
      "Caractere :  H -> 1\n",
      "Caractere :  V -> 2\n",
      "Caractere :  Ç -> 3\n",
      "Caractere :  S -> 12\n",
      "Caractere :  Z -> 2\n",
      "Caractere :  Ã -> 1\n",
      "Caractere :  G -> 1\n",
      "Caractere :  Õ -> 1\n",
      "Caractere :  É -> 1\n",
      "Caractere :  B -> 1\n",
      "Caractere :  P -> 1\n",
      "Caractere :  . -> 1\n"
     ]
    }
   ],
   "source": [
    "print(\"Quantidade de caracteres repetidos\")\n",
    "for chave in dic:\n",
    "    print('Caractere : ' ,chave, '->' , dic[chave])"
   ]
  }
 ],
 "metadata": {
  "kernelspec": {
   "display_name": "Python 3",
   "language": "python",
   "name": "python3"
  },
  "language_info": {
   "codemirror_mode": {
    "name": "ipython",
    "version": 3
   },
   "file_extension": ".py",
   "mimetype": "text/x-python",
   "name": "python",
   "nbconvert_exporter": "python",
   "pygments_lexer": "ipython3",
   "version": "3.8.8"
  }
 },
 "nbformat": 4,
 "nbformat_minor": 5
}
