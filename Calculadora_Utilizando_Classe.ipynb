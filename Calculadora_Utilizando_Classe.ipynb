{
 "cells": [
  {
   "cell_type": "markdown",
   "id": "6d5b85c1",
   "metadata": {},
   "source": [
    "# Calculadora utilizando Classe e Médotos "
   ]
  },
  {
   "cell_type": "code",
   "execution_count": 21,
   "id": "d01c4d50",
   "metadata": {},
   "outputs": [],
   "source": [
    "# Criando a Classe Caluculadora \n",
    "class Calculadora:\n",
    "    #construtor que recebe 2 parâmetros \n",
    "    def __init__(self, f, s):\n",
    "        self.first = f\n",
    "        self.second = s\n",
    "    \n",
    "    #Método de soma\n",
    "    def add(self):\n",
    "        return self.first + self.second\n",
    "    \n",
    "    #Método de Subtração\n",
    "    def subtract(self):\n",
    "        return self.first - self.second\n",
    "    \n",
    "    #Método de Multiplicação\n",
    "    def multiply(self):\n",
    "        return self.first * self.second\n",
    "    \n",
    "    #Método de Divisão\n",
    "    def divide(self):\n",
    "        return self.first / self.second"
   ]
  },
  {
   "cell_type": "code",
   "execution_count": 26,
   "id": "ea396084",
   "metadata": {},
   "outputs": [
    {
     "name": "stdout",
     "output_type": "stream",
     "text": [
      "\n",
      "Selecione o número da operação desejada: \n",
      "\n",
      "1 - Soma\n",
      "2 - Subtração\n",
      "3 - Multiplicação\n",
      "4 - Divisão\n",
      "\n",
      "Digite sua opção (1/2/3/4): 1\n",
      "\n",
      "Digite o primeiro número: 2\n",
      "\n",
      "Digite o segundo número: 2\n"
     ]
    }
   ],
   "source": [
    "#criação do menu de escolha do tipo de operação\n",
    "print(\"\\nSelecione o número da operação desejada: \\n\")\n",
    "print(\"1 - Soma\")\n",
    "print(\"2 - Subtração\")\n",
    "print(\"3 - Multiplicação\")\n",
    "print(\"4 - Divisão\")\n",
    "\n",
    "#Variáveis \n",
    "escolha = input(\"\\nDigite sua opção (1/2/3/4): \")\n",
    "\n",
    "var1 = int(input(\"\\nDigite o primeiro número: \"))\n",
    "var2 = int(input(\"\\nDigite o segundo número: \"))\n",
    "\n",
    "#Criando o objeto Calculadore e passando as duas variáveis \n",
    "calc = Calculadora(var1,var2)\n"
   ]
  },
  {
   "cell_type": "code",
   "execution_count": 27,
   "id": "b239cf96",
   "metadata": {},
   "outputs": [
    {
     "name": "stdout",
     "output_type": "stream",
     "text": [
      "O resultado da Soma é :  4\n"
     ]
    }
   ],
   "source": [
    "#IFs para a verificação da escolha de operação \n",
    "\n",
    "#Operação de Soma\n",
    "if escolha == '1':\n",
    "    print(\"O resultado da Soma é : \" ,calc.add())\n",
    "    \n",
    "#Operação de Subtração\n",
    "elif escolha == '2':\n",
    "    print(\"O resultado da Subtração é : \", calc.subtract())\n",
    "    \n",
    "#Operação de Multiplicação    \n",
    "elif escolha == '3':\n",
    "    print(\"O resultado da Multiplicação é : \", calc.multiply())\n",
    "    \n",
    "#Operação de Divisão       \n",
    "elif escolha == '4':\n",
    "    if(var2 == 0):\n",
    "        print('!!!erro divisão por zero!!!')\n",
    "        var3 = int(input(\"\\nDigite o segundo número diferente de zero: \"))\n",
    "        calc2 = Calculadora(var1,var3)\n",
    "        print(\"\\nO resultado da Divisão é : \", calc2.divide())\n",
    "    else:      \n",
    "        print(\"O resultado da Divisão é : \" ,calc.divide())\n",
    "else:\n",
    "    print(\"\\nOpção Inválida!\")"
   ]
  }
 ],
 "metadata": {
  "kernelspec": {
   "display_name": "Python 3",
   "language": "python",
   "name": "python3"
  },
  "language_info": {
   "codemirror_mode": {
    "name": "ipython",
    "version": 3
   },
   "file_extension": ".py",
   "mimetype": "text/x-python",
   "name": "python",
   "nbconvert_exporter": "python",
   "pygments_lexer": "ipython3",
   "version": "3.8.8"
  }
 },
 "nbformat": 4,
 "nbformat_minor": 5
}
