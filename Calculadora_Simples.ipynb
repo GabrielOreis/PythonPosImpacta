{
 "cells": [
  {
   "cell_type": "markdown",
   "id": "a8ebdfe3",
   "metadata": {},
   "source": [
    "# Calculadora com correção na divisão por zero"
   ]
  },
  {
   "cell_type": "code",
   "execution_count": 63,
   "id": "15e3beb5",
   "metadata": {
    "scrolled": true
   },
   "outputs": [
    {
     "name": "stdout",
     "output_type": "stream",
     "text": [
      "\n",
      "Digite o primeiro número: 1\n",
      "\n",
      "Digite o segundo número: 0\n"
     ]
    }
   ],
   "source": [
    "var1 = int(input(\"\\nDigite o primeiro número: \"))\n",
    "var2 = int(input(\"\\nDigite o segundo número: \"))"
   ]
  },
  {
   "cell_type": "code",
   "execution_count": 64,
   "id": "fd67fa38",
   "metadata": {},
   "outputs": [
    {
     "name": "stdout",
     "output_type": "stream",
     "text": [
      "!!!erro divisão por zero!!!\n",
      "\n",
      "Digite o segundo número diferente de 0: 1\n"
     ]
    }
   ],
   "source": [
    "soma = var1 + var2\n",
    "mult = var1 * var2\n",
    "sub = var1 - var2\n",
    "if(var2 == 0):\n",
    "    print('!!!erro divisão por zero!!!')\n",
    "    var3 = int(input(\"\\nDigite o segundo número diferente de 0: \"))\n",
    "    div = var1 / var3\n",
    "else:    \n",
    "    div = var1 / var2"
   ]
  },
  {
   "cell_type": "code",
   "execution_count": 65,
   "id": "13a9777a",
   "metadata": {},
   "outputs": [
    {
     "name": "stdout",
     "output_type": "stream",
     "text": [
      "Soma : 1\n",
      "Multiplicação : 0\n",
      "Subtração : 1\n",
      "Divisão : 1.0\n"
     ]
    }
   ],
   "source": [
    "print(\"Soma :\" ,soma )\n",
    "print(\"Multiplicação :\" ,mult)\n",
    "print(\"Subtração :\" ,sub)\n",
    "print(\"Divisão :\" ,div)"
   ]
  },
  {
   "cell_type": "code",
   "execution_count": null,
   "id": "1c4ad5c2",
   "metadata": {},
   "outputs": [],
   "source": []
  }
 ],
 "metadata": {
  "kernelspec": {
   "display_name": "Python 3",
   "language": "python",
   "name": "python3"
  },
  "language_info": {
   "codemirror_mode": {
    "name": "ipython",
    "version": 3
   },
   "file_extension": ".py",
   "mimetype": "text/x-python",
   "name": "python",
   "nbconvert_exporter": "python",
   "pygments_lexer": "ipython3",
   "version": "3.8.8"
  }
 },
 "nbformat": 4,
 "nbformat_minor": 5
}
